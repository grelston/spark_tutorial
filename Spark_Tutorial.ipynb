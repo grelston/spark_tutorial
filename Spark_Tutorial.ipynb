{
 "cells": [
  {
   "cell_type": "code",
   "execution_count": null,
   "metadata": {
    "collapsed": true
   },
   "outputs": [],
   "source": [
    "import json\n",
    "from math import exp\n",
    "from datetime import datetime\n",
    "import sklearn\n",
    "import pickle\n",
    "import re\n",
    "from pyspark.sql import SQLContext # You need SQL context\n",
    "from pyspark.sql.types import * # Export the type modules for schema\n",
    "from pyspark.sql import Row  \n",
    "\n",
    "\n",
    "# Instantiate SQL Context\n",
    "sqc = SQLContext(sc)"
   ]
  },
  {
   "cell_type": "markdown",
   "metadata": {},
   "source": [
    "<h1>1. Creating an RDD</h1>"
   ]
  },
  {
   "cell_type": "markdown",
   "metadata": {},
   "source": [
    "We start by creating the 3 RDDs from the different datasets from Amazon product reviews. Note that it does not move the data at this stage due to the lazy evaluation nature."
   ]
  },
  {
   "cell_type": "code",
   "execution_count": null,
   "metadata": {
    "collapsed": false
   },
   "outputs": [],
   "source": [
    "fashion = sc.textFile('Data/Reviews/fashion.json')\n",
    "electronics = sc.textFile('Data/Reviews/electronics.json')\n",
    "sports = sc.textFile('Data/Reviews/sports.json')"
   ]
  },
  {
   "cell_type": "markdown",
   "metadata": {},
   "source": [
    "We do some data exploration."
   ]
  },
  {
   "cell_type": "code",
   "execution_count": null,
   "metadata": {
    "collapsed": false
   },
   "outputs": [],
   "source": [
    "print \"fashion has {0} rows, electronics {1} rows and sports {2} rows\".format(fashion.count(), electronics.count(), sports.count())\n",
    "print \"fashion first row:\"\n",
    "fashion.first()"
   ]
  },
  {
   "cell_type": "markdown",
   "metadata": {},
   "source": [
    "We can union them."
   ]
  },
  {
   "cell_type": "code",
   "execution_count": null,
   "metadata": {
    "collapsed": false
   },
   "outputs": [],
   "source": [
    "union_of_rdds = fashion.union(electronics).union(sports)\n",
    "print union_of_rdds.first()"
   ]
  },
  {
   "cell_type": "markdown",
   "metadata": {},
   "source": [
    "We can now parse the file using the json library."
   ]
  },
  {
   "cell_type": "code",
   "execution_count": null,
   "metadata": {
    "collapsed": false
   },
   "outputs": [],
   "source": [
    "import json\n",
    "parsed_fashion = fashion.map(lambda x: json.loads(x))\n",
    "parsed_fashion.first()"
   ]
  },
  {
   "cell_type": "markdown",
   "metadata": {},
   "source": [
    "Another way of loading files is by using a list of comma-separated file paths or a wildcard."
   ]
  },
  {
   "cell_type": "code",
   "execution_count": null,
   "metadata": {
    "collapsed": false
   },
   "outputs": [],
   "source": [
    "data = sc.textFile('Data/Reviews/fashion.json,Data/Reviews/electronics.json,Data/Reviews/sports.json').map(lambda x: json.loads(x))\n",
    "\n",
    "# QUESTION: How many partitions does the rdd have?\n",
    "data.getNumPartitions()"
   ]
  },
  {
   "cell_type": "markdown",
   "metadata": {},
   "source": [
    "### Extra info:\n",
    "\n",
    "Tutor mentioned really useful Spark monitor dashboard (Web UI), see localhost:4040/stages/ once Spark is running"
   ]
  },
  {
   "cell_type": "markdown",
   "metadata": {},
   "source": [
    "Now let's imagine we want to know the number of lines in each partition. For that, we need to access the data in each single partition and run operations on them instead of on each row.\n",
    "\n",
    "For this, we will use mapPartitionsWithIndex which takes a partition index and an iterator over the data as arguments. Each function in the API is documented in: https://spark.apache.org/docs/1.3.1/api/python/pyspark.html#pyspark.RDD"
   ]
  },
  {
   "cell_type": "code",
   "execution_count": null,
   "metadata": {
    "collapsed": false
   },
   "outputs": [],
   "source": [
    "indexed_data = data.mapPartitionsWithIndex(lambda splitIndex, it: [(splitIndex, len([x for x in it]))])\n",
    "indexed_data.collect()"
   ]
  },
  {
   "cell_type": "markdown",
   "metadata": {},
   "source": [
    "<h1>2. Reducers</h1>"
   ]
  },
  {
   "cell_type": "markdown",
   "metadata": {},
   "source": [
    "The next thing we have been tasked to do is to get the total number of reviews per product."
   ]
  },
  {
   "cell_type": "code",
   "execution_count": null,
   "metadata": {
    "collapsed": false
   },
   "outputs": [],
   "source": [
    "product_num = data.map(lambda x: (x['asin'], 1)).reduceByKey(lambda x,y: x+y)\n",
    "# The rdd product_num will contain (product_asin, total_number_reviews)\n",
    "\n",
    "# What are the maximum and minimum number of reviews?\n",
    "max_num = product_num.map(lambda x: x[1]).max()\n",
    "min_num = product_num.map(lambda x: x[1]).min()\n",
    "\n",
    "print \"Max number of reviews is {0}, min number of reviews is {1}\".format(max_num, min_num)"
   ]
  },
  {
   "cell_type": "markdown",
   "metadata": {},
   "source": [
    "![Alt text](Images/reducebykey.png)"
   ]
  },
  {
   "cell_type": "markdown",
   "metadata": {},
   "source": [
    "**EXERCISE**: what is the max score for each product?"
   ]
  },
  {
   "cell_type": "markdown",
   "metadata": {},
   "source": [
    "<h1>3. Joining multiple sources</h1>"
   ]
  },
  {
   "cell_type": "markdown",
   "metadata": {},
   "source": [
    "We want to join the product reviews by users to the product metadata."
   ]
  },
  {
   "cell_type": "code",
   "execution_count": null,
   "metadata": {
    "collapsed": false
   },
   "outputs": [],
   "source": [
    "product_metadata = sc.textFile('Data/Products/sample_metadata.json').map(lambda x: json.loads(x))\n",
    "print product_metadata.first()"
   ]
  },
  {
   "cell_type": "code",
   "execution_count": null,
   "metadata": {
    "collapsed": false
   },
   "outputs": [],
   "source": [
    "def flatten_categories(line):\n",
    "    old_cats = line['categories']\n",
    "    line['categories'] = [item for sublist in old_cats for item in sublist]\n",
    "    return line\n",
    "\n",
    "product_metadata = product_metadata.map(lambda x: flatten_categories(x))"
   ]
  },
  {
   "cell_type": "markdown",
   "metadata": {},
   "source": [
    "We want to join the review data to the metadata about the product. We can use the 'asin' for that, which is a unique identifier for each product. In order to do a join, we need to turn each structure into key-value pairs."
   ]
  },
  {
   "cell_type": "code",
   "execution_count": null,
   "metadata": {
    "collapsed": false
   },
   "outputs": [],
   "source": [
    "key_val_data = data.map(lambda x: (x['asin'], x))\n",
    "key_val_metadata = product_metadata.map(lambda x: (x['asin'], x))\n",
    "\n",
    "print \"We are joining {0} product reviews to {1} rows of metadata information about the products\".format(key_val_data.count(),key_val_metadata.count())\n",
    "print \"First row of key_val_data:\"\n",
    "print key_val_data.first()"
   ]
  },
  {
   "cell_type": "code",
   "execution_count": null,
   "metadata": {
    "collapsed": false
   },
   "outputs": [],
   "source": [
    "print \"number partitions key_val_data: \", \n",
    "print key_val_data.getNumPartitions()\n",
    "print \"number partitions key_val_metadata: \", \n",
    "print key_val_metadata.getNumPartitions()\n",
    "\n",
    "joined = key_val_data.join(key_val_metadata)\n",
    "joined.first()"
   ]
  },
  {
   "cell_type": "markdown",
   "metadata": {},
   "source": [
    "What is the number of output partitions of the join? To understand this, the best is to refer back to the Pyspark source code: https://github.com/apache/spark/blob/branch-1.3/python/pyspark/join.py"
   ]
  },
  {
   "cell_type": "code",
   "execution_count": null,
   "metadata": {
    "collapsed": false
   },
   "outputs": [],
   "source": [
    "# QUESTION: what is the number of partitions of the joined dataset?\n",
    "\n",
    "print \"There are {0} partitions\".format(joined.getNumPartitions())\n",
    "\n",
    "joined.take(2)"
   ]
  },
  {
   "cell_type": "markdown",
   "metadata": {},
   "source": [
    "To make it easier to manipulate, we will change the structure of the joined rdd to be a single dictionary."
   ]
  },
  {
   "cell_type": "code",
   "execution_count": null,
   "metadata": {
    "collapsed": false
   },
   "outputs": [],
   "source": [
    "def merge_dictionaries(metadata_line, review_line):\n",
    "    new_dict = review_line\n",
    "    new_dict.update(metadata_line)\n",
    "    return new_dict\n",
    "\n",
    "nice_joined = joined.map(lambda x: merge_dictionaries(x[1][0], x[1][1]))\n",
    "nice_joined.take(2)"
   ]
  },
  {
   "cell_type": "markdown",
   "metadata": {},
   "source": [
    "A couple of questions to probe your understanding of Spark"
   ]
  },
  {
   "cell_type": "code",
   "execution_count": null,
   "metadata": {
    "collapsed": false
   },
   "outputs": [],
   "source": [
    "# Testing Spark understanding\n",
    "\n",
    "# QUESTION: if I run this, what will it print?\n",
    "def change_title(line):\n",
    "    line['title'] = 'this is the title'\n",
    "    return line\n",
    "\n",
    "categories = nice_joined.map(lambda x: change_title(x))"
   ]
  },
  {
   "cell_type": "code",
   "execution_count": null,
   "metadata": {
    "collapsed": false
   },
   "outputs": [],
   "source": [
    "# ANSWER:\n",
    "print categories.map(lambda x: x['title']).first()"
   ]
  },
  {
   "cell_type": "code",
   "execution_count": null,
   "metadata": {
    "collapsed": false
   },
   "outputs": [],
   "source": [
    "# QUESTION: if I run this, what will be the title of the first row?\n",
    "nice_joined.map(lambda x: x['title']).first()"
   ]
  },
  {
   "cell_type": "code",
   "execution_count": null,
   "metadata": {
    "collapsed": false
   },
   "outputs": [],
   "source": [
    "# QUESTION: if I run this, what will it print?\n",
    "def get_first_category(line):\n",
    "    line['categories'] = line['categories'][0]\n",
    "    return line\n",
    "\n",
    "print \"BEFORE\"\n",
    "print \"the categories in the first 2 fields are: \"\n",
    "nice_joined.map(lambda x: x['categories']).take(2)"
   ]
  },
  {
   "cell_type": "code",
   "execution_count": null,
   "metadata": {
    "collapsed": false
   },
   "outputs": [],
   "source": [
    "# QUESTION: if I run this, what will it print?\n",
    "print \"AFTER\"\n",
    "nice_joined.map(lambda x: get_first_category(x)).map(lambda x: x['categories']).take(2)"
   ]
  },
  {
   "cell_type": "markdown",
   "metadata": {},
   "source": [
    "What if we cache nice_joined first?"
   ]
  },
  {
   "cell_type": "code",
   "execution_count": null,
   "metadata": {
    "collapsed": false
   },
   "outputs": [],
   "source": [
    "nice_joined.cache()\n",
    "nice_joined.count()\n",
    "\n",
    "print \"AFTER CACHING\"\n",
    "nice_joined.map(lambda x: get_first_category(x)).map(lambda x: x['categories']).take(2)"
   ]
  },
  {
   "cell_type": "markdown",
   "metadata": {},
   "source": [
    "<h1>4. GroupByKey</h1>"
   ]
  },
  {
   "cell_type": "markdown",
   "metadata": {},
   "source": [
    "Now that we have joined two data sources, we can start doing some ad-hoc analysis of the data! Let's start by counting the number of reviews per category. The categories are encoded as a list of categories, so we need to count 1 for each 'sub-category'."
   ]
  },
  {
   "cell_type": "code",
   "execution_count": null,
   "metadata": {
    "collapsed": false
   },
   "outputs": [],
   "source": [
    "# We want to get the distinct number of categories\n",
    "all_categories = nice_joined.flatMap(lambda x: x['categories'])\n",
    "print \"all_categories.take(5): \",\n",
    "print all_categories.take(5)\n",
    "num_categories = all_categories.distinct().count()\n",
    "print\n",
    "\n",
    "print \"There are {0} categories.\".format(num_categories)"
   ]
  },
  {
   "cell_type": "markdown",
   "metadata": {},
   "source": [
    "We are going to take the categories in each review and count them as being reviewed once."
   ]
  },
  {
   "cell_type": "code",
   "execution_count": null,
   "metadata": {
    "collapsed": false
   },
   "outputs": [],
   "source": [
    "category_count = nice_joined.flatMap(lambda x: [(y,1) for y in x['categories']])\n",
    "category_total_count = category_count.reduceByKey(lambda x,y: x+y)\n",
    "print category_total_count.take(10)"
   ]
  },
  {
   "cell_type": "code",
   "execution_count": null,
   "metadata": {
    "collapsed": false
   },
   "outputs": [],
   "source": [
    "sorted_categories = sorted(category_total_count.collect(), key=lambda x: x[1], reverse=True)\n",
    "print \"The top 5 categories are:\"\n",
    "print sorted_categories[:5]"
   ]
  },
  {
   "cell_type": "markdown",
   "metadata": {},
   "source": [
    "Next, we have been tasked to get the average product review length for each category. We can solve this using groupByKey!"
   ]
  },
  {
   "cell_type": "code",
   "execution_count": null,
   "metadata": {
    "collapsed": false
   },
   "outputs": [],
   "source": [
    "category_review = nice_joined.flatMap(lambda x: [(y, len(x['reviewText'])) for y in x['categories']])\n",
    "print \"After the flatMap: \" + str(category_review.first())\n",
    "print \"After the groupByKey: \" + str(category_review.groupByKey().map(lambda x: (x[0], list(x[1]))).first())\n",
    "print\n",
    "\n",
    "grouped_category_review = category_review.groupByKey().map(lambda x: (x[0], sum(x[1])/float(len(x[1]))))\n",
    "print \"grouped_category_review.first(): \" + str(grouped_category_review.first())\n",
    "\n",
    "### Now we can sort the categories by average product review length\n",
    "print \"The top 10 categories are: \" + str(sorted(grouped_category_review.collect(), key=lambda x: x[1], reverse=True)[:10])"
   ]
  },
  {
   "cell_type": "markdown",
   "metadata": {},
   "source": [
    "**EXERCISE**: Do the same thing, but this time you are not allowed to use groupByKey()!"
   ]
  },
  {
   "cell_type": "markdown",
   "metadata": {},
   "source": [
    "<h1>Optional: Data skewness</h1>"
   ]
  },
  {
   "cell_type": "code",
   "execution_count": null,
   "metadata": {
    "collapsed": false
   },
   "outputs": [],
   "source": [
    "from math import exp\n",
    "from datetime import datetime\n",
    "\n",
    "def get_part_index(splitIndex, iterator):\n",
    "    for it in iterator:\n",
    "        yield (splitIndex, it)\n",
    "       \n",
    "def count_elements(splitIndex, iterator):\n",
    "    n = sum(1 for _ in iterator)\n",
    "    yield (splitIndex, n)\n",
    "        \n",
    "print \"***Creating the large rdd***\"\n",
    "num_parts = 16\n",
    "# create the large skewed rdd\n",
    "skewed_large_rdd = sc.parallelize(range(0,num_parts), num_parts).flatMap(lambda x: range(0, int(exp(x)))).mapPartitionsWithIndex(lambda ind, x: get_part_index(ind, x)).cache()\n",
    "print \"first 5 items:\" + str(skewed_large_rdd.take(5))\n",
    "print \"num rows: \" + str(skewed_large_rdd.count())\n",
    "print \"num partitions: \" + str(skewed_large_rdd.getNumPartitions())\n",
    "print \"The distribution of elements per partition is \" + str(skewed_large_rdd.mapPartitionsWithIndex(lambda ind, x: count_elements(ind, x)).collect())\n",
    "print\n",
    "\n",
    "print \"***Creating the small rdd***\"\n",
    "small_rdd = sc.parallelize(range(0,num_parts), num_parts).map(lambda x: (x, x))\n",
    "print \"first 5 items:\" + str(small_rdd.take(5))\n",
    "print \"num rows: \" + str(small_rdd.count())\n",
    "print \"num partitions: \" + str(small_rdd.getNumPartitions())\n",
    "print \"The distribution of elements per partition is \" + str(small_rdd.mapPartitionsWithIndex(lambda ind, x: count_elements(ind, x)).collect())\n",
    "\n",
    "print\n",
    "\n",
    "print \"Joining them\"\n",
    "t0 = datetime.now()\n",
    "result = skewed_large_rdd.leftOuterJoin(small_rdd)\n",
    "result.count() \n",
    "print \"The direct join takes %s\"%(str(datetime.now() - t0))\n",
    "print \"The joined rdd has {0} partitions and {1} rows\".format(result.getNumPartitions(), result.count())"
   ]
  },
  {
   "cell_type": "markdown",
   "metadata": {},
   "source": [
    "<h1>Optional: Integrating Spark with popular Python libraries</h1>"
   ]
  },
  {
   "cell_type": "code",
   "execution_count": null,
   "metadata": {
    "collapsed": false
   },
   "outputs": [],
   "source": [
    "import sklearn\n",
    "import pickle\n",
    "\n",
    "model = pickle.load(open('Data/classifiers/classifier.pkl', 'r'))\n",
    "model_b = sc.broadcast(model)\n",
    "fashion.map(lambda x: eval(x)['reviewText']).map(lambda x: (x, model_b.value.predict([x])[0])).first()"
   ]
  },
  {
   "cell_type": "markdown",
   "metadata": {},
   "source": [
    "<h1>Spark.. A View from the trenches: Part 2</h1>"
   ]
  },
  {
   "cell_type": "markdown",
   "metadata": {},
   "source": [
    "<h1>Introduction</h1>\n",
    "\n",
    "This is the latter part of the tutorial. The main focus will be on Spark DataFrames and Spark SQL."
   ]
  },
  {
   "cell_type": "code",
   "execution_count": null,
   "metadata": {
    "collapsed": false
   },
   "outputs": [],
   "source": [
    "review_filepaths = 'Data/Reviews/*'\n",
    "textRDD = sc.textFile(review_filepaths)\n",
    "\n",
    "print 'number of reviews : {0}'.format(textRDD.count())\n",
    "\n",
    "print 'sample row : \\n{0}'.format(textRDD.first())"
   ]
  },
  {
   "cell_type": "markdown",
   "metadata": {},
   "source": [
    "<h1>5. Loading Data into a DataFrame</h1>\n",
    "\n",
    "A DataFrame requires schema. There are two main functions that can be used to assign schema into an RDD. \n",
    "+ Inferring Schema : This functions infers the schema of the RDD by observing it\n",
    "+ Applying Schema  : This function applies a manually defined schema an RDD"
   ]
  },
  {
   "cell_type": "code",
   "execution_count": null,
   "metadata": {
    "collapsed": false
   },
   "outputs": [],
   "source": [
    "# You need SQL context do \n",
    "from pyspark.sql import SQLContext\n",
    "\n",
    "# Instantiate SQL Context\n",
    "sqc = SQLContext(sc)\n",
    "\n",
    "print sqc"
   ]
  },
  {
   "cell_type": "markdown",
   "metadata": {},
   "source": [
    "<h2>Inferring the Schema Using Reflection</h2>"
   ]
  },
  {
   "cell_type": "code",
   "execution_count": null,
   "metadata": {
    "collapsed": false
   },
   "outputs": [],
   "source": [
    "inferredDF = sqc.jsonFile(review_filepaths)\n",
    "inferredDF.first()"
   ]
  },
  {
   "cell_type": "code",
   "execution_count": null,
   "metadata": {
    "collapsed": false
   },
   "outputs": [],
   "source": [
    "inferredDF.printSchema()"
   ]
  },
  {
   "cell_type": "markdown",
   "metadata": {},
   "source": [
    "<h2>Manually Specifying the Schema</h2>\n",
    "\n",
    "The Documentation about different data types can be found at [Spark SQL DataTypes section](https://spark.apache.org/docs/latest/sql-programming-guide.html#data-types \"Spark SQL DataTypes Documentation\") \n",
    "\n",
    "<h3>EXERCISE (3 mins)</h3>\n",
    "+ Let's add the fields \"summary\" ::string and \"unixReviewTime\" ::long to the schema. "
   ]
  },
  {
   "cell_type": "code",
   "execution_count": null,
   "metadata": {
    "collapsed": false
   },
   "outputs": [],
   "source": [
    "# Export the modules\n",
    "from pyspark.sql.types import *\n",
    "\n",
    "# Define Schema\n",
    "REVIEWS_SCHEMA_DEF = StructType([\n",
    "        StructField('reviewerID', StringType(), True),\n",
    "        StructField('asin', StringType(), True),\n",
    "        StructField('reviewerName', StringType(), True),\n",
    "        StructField('helpful', ArrayType(\n",
    "                IntegerType(), True), \n",
    "            True),\n",
    "        StructField('reviewText', StringType(), True),\n",
    "        StructField('reviewTime', StringType(), True),\n",
    "        StructField('overall', DoubleType(), True)\n",
    "    ])\n",
    "\n",
    "print REVIEWS_SCHEMA_DEF"
   ]
  },
  {
   "cell_type": "code",
   "execution_count": null,
   "metadata": {
    "collapsed": false
   },
   "outputs": [],
   "source": [
    "# Using a handcrafted schema with to create a DataFrame\n",
    "appliedDF = sqlContext.jsonFile(review_filepaths,schema=REVIEWS_SCHEMA_DEF)\n",
    "appliedDF.first()"
   ]
  },
  {
   "cell_type": "markdown",
   "metadata": {},
   "source": [
    "<h1>6. DataFrame operations</h1>\n",
    "\n",
    "Spark DataFrame API allow you to do multiple operations on the Data. The primary advantage of using the DataFrame API is that you can do data transoformations with the high level API without having to use Python. Using the high level API has its advantages which will be explained later in the tutorial.\n",
    "\n",
    "DataFrame API have functionality similar to that of Core RDD API. For example: \n",
    "+ map                     : foreach, Select\n",
    "+ mapPartition            : foreachPartition\n",
    "+ filter                  : filter\n",
    "+ groupByKey, reduceByKey : groupBy \n",
    "\n",
    "<h2>6.1. Selecting Columns</h2>\n",
    "\n",
    "You can use SELECT statement to select columns from your dataframe\n",
    "\n",
    "<h3>EXERCISE (3 mins)</h3>\n",
    "\n",
    "+ Divide the numerator in 'helpful' field by the denominator in 'helpful' field to get the fraction "
   ]
  },
  {
   "cell_type": "code",
   "execution_count": null,
   "metadata": {
    "collapsed": false
   },
   "outputs": [],
   "source": [
    "columnDF = appliedDF.select(appliedDF.asin,\n",
    "                            appliedDF.overall,\n",
    "                            appliedDF.reviewText,\n",
    "                            appliedDF.helpful[0]/appliedDF.helpful[1], # added\n",
    "                            appliedDF.reviewerID,\n",
    "                            appliedDF.unixReviewTime) \\\n",
    "                                .withColumnRenamed('helpful[0] / helpful[1]', 'helpful') # added\n",
    "columnDF.show()"
   ]
  },
  {
   "cell_type": "markdown",
   "metadata": {},
   "source": [
    "<h2>6.2. Missing Values</h2>\n",
    "\n",
    "Similar to Pandas, DataFrames come equipped with functions to address missing data.\n",
    "+ dropna function: can be used to remove observations with missing values\n",
    "+ fillna function: can be used to fill missing values with a default value"
   ]
  },
  {
   "cell_type": "code",
   "execution_count": null,
   "metadata": {
    "collapsed": false
   },
   "outputs": [],
   "source": [
    "# get null observations out\n",
    "densedDF=columnDF.dropna(subset=[\"overall\"]).fillna(0.0,subset=[\"helpful\"]) \n",
    "densedDF.show()"
   ]
  },
  {
   "cell_type": "markdown",
   "metadata": {},
   "source": [
    "<h2>6.3. Filtering rows</h2>\n",
    "\n",
    "Filtering lets you select rows based on arguments. The implementation pattern is similar to filtering RDDs, But simpler. \n",
    "\n",
    "<h3>EXERCISE (3 mins)</h3>\n",
    "\n",
    "+ Let's filter all the reviews that have an overall score greater than or equal to 3.0 "
   ]
  },
  {
   "cell_type": "code",
   "execution_count": null,
   "metadata": {
    "collapsed": false
   },
   "outputs": [],
   "source": [
    "filteredDF = densedDF.filter(densedDF.overall >= 3)\n",
    "filteredDF.show()"
   ]
  },
  {
   "cell_type": "markdown",
   "metadata": {},
   "source": [
    "<h2>6.4. Grouping by overall scores</h2>\n",
    "\n",
    "Grouping is equivalent to the groupByKey in the core RDD API. You can transform the grouped values using a summary action such as:\n",
    "+ count\n",
    "+ sum\n",
    "+ average\n",
    "+ max and so on ..."
   ]
  },
  {
   "cell_type": "code",
   "execution_count": null,
   "metadata": {
    "collapsed": false
   },
   "outputs": [],
   "source": [
    "grouped = filteredDF.groupBy(\"overall\").count()\n",
    "grouped.show()"
   ]
  },
  {
   "cell_type": "markdown",
   "metadata": {},
   "source": [
    "<h2>6.5. Joining DataFrames together</h2>\n",
    "\n",
    "You can join two DataFrames together by using a common key column."
   ]
  },
  {
   "cell_type": "code",
   "execution_count": null,
   "metadata": {
    "collapsed": false
   },
   "outputs": [],
   "source": [
    "product_filepaths = 'Data/Products/*'\n",
    "productRDD = sc.textFile(product_filepaths)\n",
    "productRDD.first()"
   ]
  },
  {
   "cell_type": "code",
   "execution_count": null,
   "metadata": {
    "collapsed": false
   },
   "outputs": [],
   "source": [
    "# Load Dataset2 : Amazon Product information\n",
    "# First, define Schema for second Dataset\n",
    "PRODUCTS_SCHEMA_DEF = StructType([\n",
    "        StructField('asin', StringType(), True),\n",
    "        StructField('title', StringType(), True),\n",
    "        StructField('price', DoubleType(), True),\n",
    "        StructField('categories', ArrayType(ArrayType(\n",
    "            StringType(), True),True),True),\n",
    "        StructField('related', MapType(StringType(), ArrayType(\n",
    "                StringType(), True),True)),\n",
    "        StructField('imUrl', StringType(), True),\n",
    "        StructField('salesRank', MapType(StringType(), IntegerType(), True),True)\n",
    "    ])\n",
    "\n",
    "# Load the dataset\n",
    "productDF = sqc.jsonFile(product_filepaths,PRODUCTS_SCHEMA_DEF)\n",
    "productDF.show()\n",
    "# productDF.first()"
   ]
  },
  {
   "cell_type": "markdown",
   "metadata": {},
   "source": [
    "*QUESTION*: What do you think will happen if we remove some fields from this schema?\n",
    "\n",
    "1. The schema fails\n",
    "2. The schema works fine\n",
    "\n",
    "ANSWER??? \n",
    "\n",
    "Now lets join the two datasets"
   ]
  },
  {
   "cell_type": "code",
   "execution_count": null,
   "metadata": {
    "collapsed": false
   },
   "outputs": [],
   "source": [
    "enrichedReviews = filteredDF.join(productDF, productDF.asin==filteredDF.asin).dropna(subset=\"title\")\n",
    "enrichedReviews.count()"
   ]
  },
  {
   "cell_type": "markdown",
   "metadata": {},
   "source": [
    "When you join two RDDs, you have to restructure the data into (k,V) pairs where the key is the join key. This may involve two additional map transformations. This is not necessary in DataFrames.  "
   ]
  },
  {
   "cell_type": "code",
   "execution_count": null,
   "metadata": {
    "collapsed": false
   },
   "outputs": [],
   "source": [
    "enrichedReviews"
   ]
  },
  {
   "cell_type": "code",
   "execution_count": null,
   "metadata": {
    "collapsed": false
   },
   "outputs": [],
   "source": [
    "enrichedReviews.show()"
   ]
  },
  {
   "cell_type": "markdown",
   "metadata": {},
   "source": [
    "<h1>7. Saving your DataFrame</h1> \n",
    "\n",
    "Now that we have done some operations on the data, we can save the file for later use. Standard data formats are a great way to opening up valuable data to your entire organization. Spark DataFrames can be saved in many different formats including and not limited to JSON, parquet, Hive and etc... "
   ]
  },
  {
   "cell_type": "code",
   "execution_count": null,
   "metadata": {
    "collapsed": false
   },
   "outputs": [],
   "source": [
    "try:\n",
    "    columnDF.saveAsParquetFile('Data/Outputs/reviews_filtered.parquet')\n",
    "except:\n",
    "    pass\n",
    "\n",
    "print \"Saved as parquet successfully\""
   ]
  },
  {
   "cell_type": "markdown",
   "metadata": {},
   "source": [
    "<h1>8. Using Spark SQL</h1>\n",
    "\n",
    "Spark DataFrames also allow you to use Spark SQL to query from Petabytes of data. Spark comes with a SQL like query language which can be used to query from Distributed DataFrames. A key advantage of using Spark SQL is that the [Catelyst query optimizer](https://databricks.com/blog/2015/04/13/deep-dive-into-spark-sqls-catalyst-optimizer.html \"Catelyst\") under the hood transforms your SQL query to run it most efficiently. \n",
    "\n",
    "<h2>8.1. Example Queries</h2>\n",
    "\n",
    "Spark SQL can leverage the same functionality as the DataFrame API provides. In fact, it provides more functionality via SQL capabilities and HQL capabilities that are available to Spark SQL environment. \n",
    "\n",
    "For the sake of time constrains, I will explain different functions available in Spark SQL environment by using examples that use multiple functions. This will benefit by:\n",
    "+ Covering many functions that are possible via spark SQL\n",
    "+ Giving an understanding about how to pipe multiple functions together\n"
   ]
  },
  {
   "cell_type": "markdown",
   "metadata": {},
   "source": [
    "### Extra info\n",
    "\n",
    "Use Spark DataFrames and intelligent data format (e.g. parquet) for optimal throughput"
   ]
  },
  {
   "cell_type": "code",
   "execution_count": null,
   "metadata": {
    "collapsed": false
   },
   "outputs": [],
   "source": [
    "# Read the reviews parquet file\n",
    "reviewsDF = sqc.parquetFile('Data/Outputs/reviews_filtered.parquet')\n",
    "\n",
    "# Register the DataFrames to be used in sql\n",
    "reviewsDF.registerAsTable(\"reviews\")\n",
    "productDF.registerAsTable(\"products\")\n",
    "\n",
    "print 'There are {0} reviews about {1} products'.format(reviewsDF.count(),productDF.count())"
   ]
  },
  {
   "cell_type": "code",
   "execution_count": null,
   "metadata": {
    "collapsed": false
   },
   "outputs": [],
   "source": [
    "sql_query = \"\"\"SELECT reviews.asin, overall, reviewText, price\n",
    "            FROM reviews JOIN products ON  reviews.asin=products.asin\n",
    "            WHERE price > 50.00\n",
    "\"\"\"\n",
    "\n",
    "result = sqc.sql(sql_query)\n",
    "result.show()"
   ]
  },
  {
   "cell_type": "markdown",
   "metadata": {},
   "source": [
    "<h1>Optional: User Defined Functions</h1>\n",
    "\n",
    "Spark SQL also provides the functionality similar to User Defined Functions (UDF) offering in Hive. Spark uses registerFunction() function to register python functions in SQLContext."
   ]
  },
  {
   "cell_type": "code",
   "execution_count": null,
   "metadata": {
    "collapsed": false
   },
   "outputs": [],
   "source": [
    "import re\n",
    "\n",
    "def transform_review(review):\n",
    "    x1 = re.sub('[^0-9a-zA-Z\\s]+','',review)\n",
    "    return [x1.lower()]\n",
    "\n",
    "result.registerAsTable(\"result\")\n",
    "sqc.registerFunction(\"to_lowercase\", lambda x:transform_review(x),returnType=ArrayType(StringType(), True))\n",
    "\n",
    "sql_query_transform = \"\"\"SELECT asin, reviewText, to_lowercase(reviewText) as cleaned\n",
    "            FROM result\n",
    "\"\"\"\n",
    "\n",
    "result_transform = sqc.sql(sql_query_transform)\n",
    "result_transform.show()"
   ]
  },
  {
   "cell_type": "markdown",
   "metadata": {},
   "source": [
    "<h1>Optional : Mix and Match!!</h1>\n",
    "\n",
    "You can also mix DataFrames, RDDs and SparkSQL to make it work for you. \n",
    "\n",
    "<h2>Scenario</h2>\n",
    "\n",
    "We want to investigate the average rating of reviews in terms of the categories they belong to. In order to do this, we:\n",
    "+ query the needed data using DataFrames API\n",
    "+ classify the reviews into different categories using core RDD API\n",
    "+ query the avearage rating for each category using Spark SQL"
   ]
  },
  {
   "cell_type": "code",
   "execution_count": null,
   "metadata": {
    "collapsed": false
   },
   "outputs": [],
   "source": [
    "import sklearn\n",
    "import pickle\n",
    "\n",
    "from pyspark.sql import Row\n",
    "\n",
    "model = pickle.load(open('Data/classifiers/classifier.pkl', 'r'))\n",
    "classifier_b = sc.broadcast(model)\n",
    "\n",
    "# fashion.map(lambda x: eval(x)['reviewText']).map(lambda x: (x, model_b.value.predict([x])[0])).first()\n",
    "classifiedRDD = result_transform.map(lambda row: \n",
    "                                     (row.asin,row.reviewText,str(classifier_b.value.predict(row.cleaned)[0]))\n",
    "                                    )\n",
    "\n",
    "classifiedRDD.first()\n",
    "\n",
    "CLASSIFIED_SCHEMA = StructType([\n",
    "        StructField('asin', StringType(), True),\n",
    "        StructField('review', StringType(), True),\n",
    "        StructField('category', StringType(), True)\n",
    "    ])\n",
    "\n",
    "classifiedDF = sqc.createDataFrame(classifiedRDD,CLASSIFIED_SCHEMA)\n",
    "\n",
    "classifiedDF.show()"
   ]
  },
  {
   "cell_type": "code",
   "execution_count": null,
   "metadata": {
    "collapsed": false
   },
   "outputs": [],
   "source": [
    "classifiedDF.registerAsTable('enrichedReviews')\n",
    "\n",
    "sql_query_test = \"\"\"SELECT category, avg(overall) as avgRating\n",
    "            FROM reviews \n",
    "            JOIN products ON reviews.asin=products.asin \n",
    "            JOIN enrichedReviews ON products.asin=enrichedReviews.asin\n",
    "            WHERE price > 50.0\n",
    "            GROUP BY enrichedReviews.category\n",
    "\"\"\"\n",
    "\n",
    "resultTest = sqc.sql(sql_query_test)\n",
    "resultTest.show()"
   ]
  }
 ],
 "metadata": {
  "kernelspec": {
   "display_name": "Python 2",
   "language": "python",
   "name": "python2"
  },
  "language_info": {
   "codemirror_mode": {
    "name": "ipython",
    "version": 2
   },
   "file_extension": ".py",
   "mimetype": "text/x-python",
   "name": "python",
   "nbconvert_exporter": "python",
   "pygments_lexer": "ipython2",
   "version": "2.7.9"
  }
 },
 "nbformat": 4,
 "nbformat_minor": 0
}
